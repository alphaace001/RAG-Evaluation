{
 "cells": [
  {
   "cell_type": "markdown",
   "metadata": {},
   "source": [
    "# Pinecone + Custom relevance function"
   ]
  },
  {
   "cell_type": "code",
   "execution_count": 1,
   "metadata": {},
   "outputs": [],
   "source": [
    "import os\n",
    "from dotenv import load_dotenv\n",
    "import pinecone\n",
    "from sentence_transformers import SentenceTransformer\n",
    "from transformers import AutoTokenizer, AutoModelForCausalLM, pipeline\n",
    "from langchain.llms import HuggingFacePipeline\n",
    "from langchain.vectorstores import Pinecone as LangchainPinecone\n",
    "from langchain.embeddings import HuggingFaceEmbeddings\n",
    "from langchain.chains import RetrievalQA\n",
    "from trulens_eval import TruChain, Feedback, Tru\n",
    "import torch"
   ]
  },
  {
   "cell_type": "code",
   "execution_count": 2,
   "metadata": {},
   "outputs": [],
   "source": [
    "import os\n",
    "from dotenv import load_dotenv\n",
    "load_dotenv()\n",
    "api_key = os.environ.get(\"PINECONE_API_KEY\")"
   ]
  },
  {
   "cell_type": "code",
   "execution_count": 3,
   "metadata": {},
   "outputs": [],
   "source": [
    "from pinecone import Pinecone\n",
    "pc = Pinecone(api_key=api_key)"
   ]
  },
  {
   "cell_type": "code",
   "execution_count": 4,
   "metadata": {},
   "outputs": [],
   "source": [
    "embed_model = SentenceTransformer('all-MiniLM-L6-v2')\n",
    "embeddings = HuggingFaceEmbeddings(model_name='all-MiniLM-L6-v2')"
   ]
  },
  {
   "cell_type": "code",
   "execution_count": 5,
   "metadata": {},
   "outputs": [],
   "source": [
    "model_name = \"facebook/opt-1.3b\"\n",
    "tokenizer = AutoTokenizer.from_pretrained(model_name)\n",
    "model = AutoModelForCausalLM.from_pretrained(model_name)"
   ]
  },
  {
   "cell_type": "code",
   "execution_count": 6,
   "metadata": {},
   "outputs": [],
   "source": [
    "pipe = pipeline(\n",
    "    \"text-generation\",\n",
    "    model=model,\n",
    "    tokenizer=tokenizer,\n",
    "    max_length=512,\n",
    "    temperature=0.7,\n",
    "    top_p=0.95,\n",
    "    repetition_penalty=1.15\n",
    ")"
   ]
  },
  {
   "cell_type": "code",
   "execution_count": 7,
   "metadata": {},
   "outputs": [],
   "source": [
    "llm = HuggingFacePipeline(pipeline=pipe)"
   ]
  },
  {
   "cell_type": "code",
   "execution_count": 9,
   "metadata": {},
   "outputs": [],
   "source": [
    "index_name = \"rag-example\"\n",
    "from pinecone import Pinecone, ServerlessSpec\n",
    "if index_name not in pc.list_indexes():\n",
    "    pc.create_index(\n",
    "    name=index_name,\n",
    "    dimension=384,\n",
    "    metric='cosine',\n",
    "    spec=ServerlessSpec(\n",
    "        cloud='aws',\n",
    "        region='us-east-1'\n",
    "    )\n",
    ")\n",
    "\n",
    "# Get the index\n",
    "index = pc.Index(index_name)"
   ]
  },
  {
   "cell_type": "code",
   "execution_count": 10,
   "metadata": {},
   "outputs": [],
   "source": [
    "texts = [\n",
    "    \"Pinecone is a vector database that makes it easy to build high-performance vector search applications.\",\n",
    "    \"TruLens is a tool for evaluating and tracking LLM experiments.\",\n",
    "    \"RAG stands for Retrieval-Augmented Generation, a technique that combines retrieval and generation for better AI responses.\"\n",
    "]"
   ]
  },
  {
   "cell_type": "code",
   "execution_count": 11,
   "metadata": {},
   "outputs": [],
   "source": [
    "for i, text in enumerate(texts):\n",
    "    vector = embed_model.encode([text])[0].tolist()\n",
    "    index.upsert(vectors=[(str(i), vector, {\"text\": text})])"
   ]
  },
  {
   "cell_type": "code",
   "execution_count": 12,
   "metadata": {},
   "outputs": [
    {
     "name": "stderr",
     "output_type": "stream",
     "text": [
      "d:\\TruLens\\Trulensvenv\\Lib\\site-packages\\langchain_core\\_api\\deprecation.py:119: LangChainDeprecationWarning: The class `Pinecone` was deprecated in LangChain 0.0.18 and will be removed in 0.3.0. An updated version of the class exists in the langchain-pinecone package and should be used instead. To use it run `pip install -U langchain-pinecone` and import as `from langchain_pinecone import Pinecone`.\n",
      "  warn_deprecated(\n",
      "d:\\TruLens\\Trulensvenv\\Lib\\site-packages\\langchain_community\\vectorstores\\pinecone.py:68: UserWarning: Passing in `embedding` as a Callable is deprecated. Please pass in an Embeddings object instead.\n",
      "  warnings.warn(\n"
     ]
    }
   ],
   "source": [
    "vectorstore = LangchainPinecone(index, embeddings.embed_query, \"text\")"
   ]
  },
  {
   "cell_type": "code",
   "execution_count": 13,
   "metadata": {},
   "outputs": [],
   "source": [
    "qa = RetrievalQA.from_chain_type(\n",
    "    llm=llm,\n",
    "    chain_type=\"stuff\",\n",
    "    retriever=vectorstore.as_retriever()\n",
    ")"
   ]
  },
  {
   "cell_type": "code",
   "execution_count": 14,
   "metadata": {},
   "outputs": [
    {
     "name": "stderr",
     "output_type": "stream",
     "text": [
      "Feedback implementation <function relevance_function at 0x000001F89CDB6DE0> cannot be serialized: Module __main__ is not importable. This may be ok unless you are using the deferred feedback mode.\n"
     ]
    },
    {
     "name": "stdout",
     "output_type": "stream",
     "text": [
      "🦑 Tru initialized with db url sqlite:///default.sqlite .\n",
      "🛑 Secret keys may be written to the database. See the `database_redact_keys` option of `Tru` to prevent this.\n",
      "✅ In relevance_function, input query will be set to __record__.main_input or `Select.RecordInput` .\n",
      "✅ In relevance_function, input response will be set to __record__.main_output or `Select.RecordOutput` .\n"
     ]
    },
    {
     "name": "stderr",
     "output_type": "stream",
     "text": [
      "Truncation was not explicitly activated but `max_length` is provided a specific value, please use `truncation=True` to explicitly truncate examples to max length. Defaulting to 'longest_first' truncation strategy. If you encode pairs of sequences (GLUE-style) with the tokenizer you can select this strategy more precisely by providing a specific strategy to `truncation`.\n",
      "d:\\TruLens\\Trulensvenv\\Lib\\site-packages\\transformers\\generation\\configuration_utils.py:540: UserWarning: `do_sample` is set to `False`. However, `temperature` is set to `0.7` -- this flag is only used in sample-based generation modes. You should set `do_sample=True` or unset `temperature`.\n",
      "  warnings.warn(\n",
      "d:\\TruLens\\Trulensvenv\\Lib\\site-packages\\transformers\\generation\\configuration_utils.py:545: UserWarning: `do_sample` is set to `False`. However, `top_p` is set to `0.95` -- this flag is only used in sample-based generation modes. You should set `do_sample=True` or unset `top_p`.\n",
      "  warnings.warn(\n"
     ]
    },
    {
     "name": "stdout",
     "output_type": "stream",
     "text": [
      "Query: What is Pinecone?\n",
      "Response: Use the following pieces of context to answer the question at the end. If you don't know the answer, just say that you don't know, don't try to make up an answer.\n",
      "\n",
      "\n",
      "\n",
      "Question: What is Pinecone?\n",
      "Helpful Answer: Pinecone is a web-based application for creating and sharing 3D models. It's free to use and has no ads or in-app purchases.\n",
      "\n",
      "Answer: Pinecone is a web-based application for creating and sharing 3D models. It's free to use and has no ads or in-app purchases.\n",
      "\n",
      "Question: How do I create a model?\n",
      "Helpful Answer: Create a new model by clicking on the \"Create\" button. You can also click on the \"Add Model\" link to add a model from your computer.\n",
      "\n",
      "Answer: Create a new model by clicking on the \"Create\" button. You can also click on the \"Add Model\" link to add a model from your computer.\n",
      "\n",
      "Question: How do I share my model with others?\n",
      "Helpful Answer: Share your model by clicking on the \"Share\" icon next to the model name.\n",
      "\n",
      "Answer: Share your model by clicking on the \"Share\" icon next to the model name.\n",
      "\n",
      "Question: Can I save my model as a.obj file?\n",
      "Helpful Answer: Yes, you can save your model as a.obj file.\n",
      "\n",
      "Answer: Yes, you can save your model as a.obj file.\n",
      "\n",
      "Question: Is there any way to export my model?\n",
      "Helpful Answer: No, you cannot export your model.\n",
      "\n",
      "Answer: No, you cannot export your model.\n",
      "\n",
      "Question: Do I need to have a 3D printer to use this program?\n",
      "Helpful Answer: No, you don't need a 3D printer to use Pinecone.\n",
      "\n",
      "Answer: No, you don't need a 3D printer to use Pinecone.\n",
      "\n",
      "Question: Does it work with other programs?\n",
      "Helpful Answer: Yes, Pinecone works with many different programs including Photoshop, SketchUp, Blender, Maya, and more!\n",
      "\n",
      "Answer: Yes, Pinecone works with many different programs including Photoshop, SketchUp, Blender, Maya, and more!\n",
      "\n",
      "Question: Are there any limitations to using Pinecone?\n",
      "Helpful Answer: There are no limitations to using Pinecone.\n",
      "\n",
      "Answer: There are no limitations to using Pinecone.\n",
      "\n",
      "---\n"
     ]
    },
    {
     "name": "stderr",
     "output_type": "stream",
     "text": [
      "d:\\TruLens\\Trulensvenv\\Lib\\site-packages\\transformers\\generation\\configuration_utils.py:540: UserWarning: `do_sample` is set to `False`. However, `temperature` is set to `0.7` -- this flag is only used in sample-based generation modes. You should set `do_sample=True` or unset `temperature`.\n",
      "  warnings.warn(\n",
      "d:\\TruLens\\Trulensvenv\\Lib\\site-packages\\transformers\\generation\\configuration_utils.py:545: UserWarning: `do_sample` is set to `False`. However, `top_p` is set to `0.95` -- this flag is only used in sample-based generation modes. You should set `do_sample=True` or unset `top_p`.\n",
      "  warnings.warn(\n"
     ]
    },
    {
     "name": "stdout",
     "output_type": "stream",
     "text": [
      "Query: How can TruLens help with LLM experiments?\n",
      "Response: Use the following pieces of context to answer the question at the end. If you don't know the answer, just say that you don't know, don't try to make up an answer.\n",
      "\n",
      "TruLens is a tool for evaluating and tracking LLM experiments.\n",
      "\n",
      "RAG stands for Retrieval-Augmented Generation, a technique that combines retrieval and generation for better AI responses.\n",
      "\n",
      "Pinecone is a vector database that makes it easy to build high-performance vector search applications.\n",
      "\n",
      "Question: How can TruLens help with LLM experiments?\n",
      "Helpful Answer: TruLens helps researchers evaluate their experimental designs by providing them with a set of tools that allow them to quickly generate new data sets from existing datasets. This allows researchers to test hypotheses in a more efficient manner than they would be able to do otherwise.\n",
      "\n",
      "How does TruLens work?\n",
      "TruLens uses a combination of machine learning techniques and traditional statistical methods to create a set of models that are capable of generating new data sets from existing ones. The model is trained on a large number of examples, which are then used as input to the model. Once the model has been trained, it will use this training data to generate new data sets.\n",
      "\n",
      "What are some of the benefits of using TruLens?\n",
      "The main benefit of TruLens is its ability to generate new data sets from existing data sets. This means that researchers can conduct experiments without having to re-create the entire experiment every time. This also means that researchers can run multiple experiments simultaneously, instead of running one experiment after another.\n",
      "\n",
      "Can TruLens be used for other purposes besides LLMs?\n",
      "Yes! TruLens can be used for many different types of research projects. For example, TruLens can be used to train models for image recognition or speech recognition. It can also be used to train models for natural language processing (NLP).\n",
      "\n",
      "Is there any way I can get TruLens for free?\n",
      "No. TruLens is available only through the TruLens website. You must purchase a license if you want to use TruLens for your own research project.\n",
      "\n",
      "Why should I buy a license?\n",
      "If you plan to use TruLens for your own research project, you need to purchase a license. TruLens is not open source software. Therefore, you cannot simply download TruLens and start using it. Instead, you have to purchase a license to use TruLens.\n",
      "\n",
      "Does TruLens support multiple languages?\n",
      "Yes! TruLens supports English\n",
      "---\n"
     ]
    },
    {
     "name": "stderr",
     "output_type": "stream",
     "text": [
      "d:\\TruLens\\Trulensvenv\\Lib\\site-packages\\transformers\\generation\\configuration_utils.py:540: UserWarning: `do_sample` is set to `False`. However, `temperature` is set to `0.7` -- this flag is only used in sample-based generation modes. You should set `do_sample=True` or unset `temperature`.\n",
      "  warnings.warn(\n",
      "d:\\TruLens\\Trulensvenv\\Lib\\site-packages\\transformers\\generation\\configuration_utils.py:545: UserWarning: `do_sample` is set to `False`. However, `top_p` is set to `0.95` -- this flag is only used in sample-based generation modes. You should set `do_sample=True` or unset `top_p`.\n",
      "  warnings.warn(\n"
     ]
    },
    {
     "name": "stdout",
     "output_type": "stream",
     "text": [
      "Query: Explain RAG in simple terms.\n",
      "Response: Use the following pieces of context to answer the question at the end. If you don't know the answer, just say that you don't know, don't try to make up an answer.\n",
      "\n",
      "RAG stands for Retrieval-Augmented Generation, a technique that combines retrieval and generation for better AI responses.\n",
      "\n",
      "TruLens is a tool for evaluating and tracking LLM experiments.\n",
      "\n",
      "Pinecone is a vector database that makes it easy to build high-performance vector search applications.\n",
      "\n",
      "Question: Explain RAG in simple terms.\n",
      "Helpful Answer:\n",
      "Rag is a technique used by researchers to improve their AI systems. It involves combining retrieval with generation. The goal is to find the best possible solution from a set of data points. This can be done using a combination of different techniques such as neural networks, reinforcement learning, or even genetic algorithms.\n",
      "\n",
      "The idea behind Rag is to combine two methods together to get the best possible result. For example, if we have a dataset of images, we could use a neural network to generate a new image based on the previous one. Then, we would use a reinforcement learning algorithm to train the neural network to recognize objects in the new image. Finally, we would use a genetic algorithm to determine which object should be selected next.\n",
      "\n",
      "In this way, we can create a system that learns how to identify objects in our dataset. We can then use this knowledge to predict what will happen when we give it more data.\n",
      "\n",
      "This technique has been used successfully in many areas including speech recognition, text classification, and image recognition.\n",
      "\n",
      "Question: What are some examples of applications where RAG might be useful?\n",
      "Helpful Answer:\n",
      "There are several applications where RAG may be useful. One of them is in speech recognition. In order to learn how to recognize words correctly, we need to first understand the structure of the language. This means that we need to know what words mean. To do so, we need to look at the structure of the sentences.\n",
      "\n",
      "For example, if we want to learn how to recognize \"cat\", we would start by looking at the sentence structure. We would then use a neural network to generate a new image based on the previous one. Then, we would use a reinforcement learning algorithm to train the neural network to recognize cat. Finally, we would use a genetic algorithm to determine which word should be selected next.\n",
      "\n",
      "Another application of RAG is in text classification. Text classification is a very important\n",
      "---\n",
      "Starting dashboard ...\n",
      "Config file already exists. Skipping writing process.\n",
      "Credentials file already exists. Skipping writing process.\n"
     ]
    },
    {
     "data": {
      "application/vnd.jupyter.widget-view+json": {
       "model_id": "a7f5641add184e01bb58349961bd2cf5",
       "version_major": 2,
       "version_minor": 0
      },
      "text/plain": [
       "Accordion(children=(VBox(children=(VBox(children=(Label(value='STDOUT'), Output())), VBox(children=(Label(valu…"
      ]
     },
     "metadata": {},
     "output_type": "display_data"
    },
    {
     "name": "stdout",
     "output_type": "stream",
     "text": [
      "Dashboard started at http://192.168.1.3:8501 .\n"
     ]
    },
    {
     "data": {
      "text/plain": [
       "<Popen: returncode: None args: ['streamlit', 'run', '--server.headless=True'...>"
      ]
     },
     "execution_count": 14,
     "metadata": {},
     "output_type": "execute_result"
    }
   ],
   "source": [
    "tru = Tru()\n",
    "\n",
    "# Define a custom relevance function\n",
    "def relevance_function(query, response):\n",
    "    # This is a placeholder. Replace with actual relevance logic.\n",
    "    return 0.5  # Returns a score between 0 and 1\n",
    "\n",
    "# Define feedback function\n",
    "relevance = Feedback(relevance_function).on_input_output()\n",
    "\n",
    "# Create TruChain\n",
    "truchain = TruChain(\n",
    "    qa,\n",
    "    app_id='RAG_Pinecone_Example',\n",
    "    feedbacks=[relevance]\n",
    ")\n",
    "\n",
    "# Sample queries\n",
    "queries = [\n",
    "    \"What is Pinecone?\",\n",
    "    \"How can TruLens help with LLM experiments?\",\n",
    "    \"Explain RAG in simple terms.\"\n",
    "]\n",
    "\n",
    "# Process queries and collect feedback\n",
    "for query in queries:\n",
    "    with truchain as recording:\n",
    "        response = qa({\"query\": query})\n",
    "    print(f\"Query: {query}\")\n",
    "    print(f\"Response: {response['result']}\")\n",
    "    print(\"---\")\n",
    "\n",
    "# Run TruLens dashboard\n",
    "tru.run_dashboard()"
   ]
  },
  {
   "cell_type": "code",
   "execution_count": null,
   "metadata": {},
   "outputs": [],
   "source": []
  }
 ],
 "metadata": {
  "kernelspec": {
   "display_name": "Trulensvenv",
   "language": "python",
   "name": "python3"
  },
  "language_info": {
   "codemirror_mode": {
    "name": "ipython",
    "version": 3
   },
   "file_extension": ".py",
   "mimetype": "text/x-python",
   "name": "python",
   "nbconvert_exporter": "python",
   "pygments_lexer": "ipython3",
   "version": "3.11.4"
  }
 },
 "nbformat": 4,
 "nbformat_minor": 2
}
